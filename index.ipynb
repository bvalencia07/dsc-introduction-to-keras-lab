{
  "cells": [
    {
      "cell_type": "markdown",
      "metadata": {
        "id": "i0sIuQ_dRQTk"
      },
      "source": [
        "# Keras - Lab\n",
        "\n",
        "## Introduction\n",
        "\n",
        "In this lab you'll once again build a neural network, but this time you will be using Keras to do a lot of the heavy lifting.\n",
        "\n",
        "\n",
        "## Objectives\n",
        "\n",
        "You will be able to:\n",
        "\n",
        "- Build a neural network using Keras\n",
        "- Evaluate performance of a neural network using Keras"
      ]
    },
    {
      "cell_type": "markdown",
      "metadata": {
        "id": "uPDdLZv7RQTl"
      },
      "source": [
        "## Required Packages\n",
        "\n",
        "We'll start by importing all of the required packages and classes."
      ]
    },
    {
      "cell_type": "code",
      "source": [
        "!pip install keras_preprocessing"
      ],
      "metadata": {
        "id": "1JPYzKWtU-1I",
        "outputId": "9461b099-c46b-419e-fb31-86139e136ee4",
        "colab": {
          "base_uri": "https://localhost:8080/"
        }
      },
      "execution_count": 6,
      "outputs": [
        {
          "output_type": "stream",
          "name": "stdout",
          "text": [
            "Collecting keras_preprocessing\n",
            "  Downloading Keras_Preprocessing-1.1.2-py2.py3-none-any.whl.metadata (1.9 kB)\n",
            "Requirement already satisfied: numpy>=1.9.1 in /usr/local/lib/python3.10/dist-packages (from keras_preprocessing) (1.26.4)\n",
            "Requirement already satisfied: six>=1.9.0 in /usr/local/lib/python3.10/dist-packages (from keras_preprocessing) (1.16.0)\n",
            "Downloading Keras_Preprocessing-1.1.2-py2.py3-none-any.whl (42 kB)\n",
            "\u001b[2K   \u001b[90m━━━━━━━━━━━━━━━━━━━━━━━━━━━━━━━━━━━━━━━━\u001b[0m \u001b[32m42.6/42.6 kB\u001b[0m \u001b[31m1.6 MB/s\u001b[0m eta \u001b[36m0:00:00\u001b[0m\n",
            "\u001b[?25hInstalling collected packages: keras_preprocessing\n",
            "Successfully installed keras_preprocessing-1.1.2\n"
          ]
        }
      ]
    },
    {
      "cell_type": "code",
      "execution_count": 8,
      "metadata": {
        "id": "Wll7tq_4RQTm"
      },
      "outputs": [],
      "source": [
        "import matplotlib.pyplot as plt\n",
        "import pandas as pd\n",
        "import numpy as np\n",
        "import random\n",
        "from sklearn.model_selection import train_test_split\n",
        "from tensorflow.keras.utils import to_categorical\n",
        "from sklearn import preprocessing\n",
        "from tensorflow.keras.preprocessing.text import Tokenizer\n",
        "from keras import models\n",
        "from keras import layers\n",
        "from keras import optimizers"
      ]
    },
    {
      "cell_type": "markdown",
      "metadata": {
        "id": "PjMZDBTiRQTn"
      },
      "source": [
        "## Load the data\n",
        "\n",
        "In this lab you will be classifying bank complaints available in the `'Bank_complaints.csv'` file."
      ]
    },
    {
      "cell_type": "code",
      "execution_count": 9,
      "metadata": {
        "id": "OUPfj6Y1RQTn",
        "outputId": "e0f91a18-15ce-4e58-fa45-da8bef0df70d",
        "colab": {
          "base_uri": "https://localhost:8080/",
          "height": 379
        }
      },
      "outputs": [
        {
          "output_type": "stream",
          "name": "stdout",
          "text": [
            "<class 'pandas.core.frame.DataFrame'>\n",
            "RangeIndex: 60000 entries, 0 to 59999\n",
            "Data columns (total 2 columns):\n",
            " #   Column                        Non-Null Count  Dtype \n",
            "---  ------                        --------------  ----- \n",
            " 0   Product                       60000 non-null  object\n",
            " 1   Consumer complaint narrative  60000 non-null  object\n",
            "dtypes: object(2)\n",
            "memory usage: 937.6+ KB\n",
            "None\n"
          ]
        },
        {
          "output_type": "execute_result",
          "data": {
            "text/plain": [
              "        Product                       Consumer complaint narrative\n",
              "0  Student loan  In XX/XX/XXXX I filled out the Fedlaon applica...\n",
              "1  Student loan  I am being contacted by a debt collector for p...\n",
              "2  Student loan  I cosigned XXXX student loans at SallieMae for...\n",
              "3  Student loan  Navient has sytematically and illegally failed...\n",
              "4  Student loan  My wife became eligible for XXXX Loan Forgiven..."
            ],
            "text/html": [
              "\n",
              "  <div id=\"df-bef037b8-db7b-4c41-b016-11babe479259\" class=\"colab-df-container\">\n",
              "    <div>\n",
              "<style scoped>\n",
              "    .dataframe tbody tr th:only-of-type {\n",
              "        vertical-align: middle;\n",
              "    }\n",
              "\n",
              "    .dataframe tbody tr th {\n",
              "        vertical-align: top;\n",
              "    }\n",
              "\n",
              "    .dataframe thead th {\n",
              "        text-align: right;\n",
              "    }\n",
              "</style>\n",
              "<table border=\"1\" class=\"dataframe\">\n",
              "  <thead>\n",
              "    <tr style=\"text-align: right;\">\n",
              "      <th></th>\n",
              "      <th>Product</th>\n",
              "      <th>Consumer complaint narrative</th>\n",
              "    </tr>\n",
              "  </thead>\n",
              "  <tbody>\n",
              "    <tr>\n",
              "      <th>0</th>\n",
              "      <td>Student loan</td>\n",
              "      <td>In XX/XX/XXXX I filled out the Fedlaon applica...</td>\n",
              "    </tr>\n",
              "    <tr>\n",
              "      <th>1</th>\n",
              "      <td>Student loan</td>\n",
              "      <td>I am being contacted by a debt collector for p...</td>\n",
              "    </tr>\n",
              "    <tr>\n",
              "      <th>2</th>\n",
              "      <td>Student loan</td>\n",
              "      <td>I cosigned XXXX student loans at SallieMae for...</td>\n",
              "    </tr>\n",
              "    <tr>\n",
              "      <th>3</th>\n",
              "      <td>Student loan</td>\n",
              "      <td>Navient has sytematically and illegally failed...</td>\n",
              "    </tr>\n",
              "    <tr>\n",
              "      <th>4</th>\n",
              "      <td>Student loan</td>\n",
              "      <td>My wife became eligible for XXXX Loan Forgiven...</td>\n",
              "    </tr>\n",
              "  </tbody>\n",
              "</table>\n",
              "</div>\n",
              "    <div class=\"colab-df-buttons\">\n",
              "\n",
              "  <div class=\"colab-df-container\">\n",
              "    <button class=\"colab-df-convert\" onclick=\"convertToInteractive('df-bef037b8-db7b-4c41-b016-11babe479259')\"\n",
              "            title=\"Convert this dataframe to an interactive table.\"\n",
              "            style=\"display:none;\">\n",
              "\n",
              "  <svg xmlns=\"http://www.w3.org/2000/svg\" height=\"24px\" viewBox=\"0 -960 960 960\">\n",
              "    <path d=\"M120-120v-720h720v720H120Zm60-500h600v-160H180v160Zm220 220h160v-160H400v160Zm0 220h160v-160H400v160ZM180-400h160v-160H180v160Zm440 0h160v-160H620v160ZM180-180h160v-160H180v160Zm440 0h160v-160H620v160Z\"/>\n",
              "  </svg>\n",
              "    </button>\n",
              "\n",
              "  <style>\n",
              "    .colab-df-container {\n",
              "      display:flex;\n",
              "      gap: 12px;\n",
              "    }\n",
              "\n",
              "    .colab-df-convert {\n",
              "      background-color: #E8F0FE;\n",
              "      border: none;\n",
              "      border-radius: 50%;\n",
              "      cursor: pointer;\n",
              "      display: none;\n",
              "      fill: #1967D2;\n",
              "      height: 32px;\n",
              "      padding: 0 0 0 0;\n",
              "      width: 32px;\n",
              "    }\n",
              "\n",
              "    .colab-df-convert:hover {\n",
              "      background-color: #E2EBFA;\n",
              "      box-shadow: 0px 1px 2px rgba(60, 64, 67, 0.3), 0px 1px 3px 1px rgba(60, 64, 67, 0.15);\n",
              "      fill: #174EA6;\n",
              "    }\n",
              "\n",
              "    .colab-df-buttons div {\n",
              "      margin-bottom: 4px;\n",
              "    }\n",
              "\n",
              "    [theme=dark] .colab-df-convert {\n",
              "      background-color: #3B4455;\n",
              "      fill: #D2E3FC;\n",
              "    }\n",
              "\n",
              "    [theme=dark] .colab-df-convert:hover {\n",
              "      background-color: #434B5C;\n",
              "      box-shadow: 0px 1px 3px 1px rgba(0, 0, 0, 0.15);\n",
              "      filter: drop-shadow(0px 1px 2px rgba(0, 0, 0, 0.3));\n",
              "      fill: #FFFFFF;\n",
              "    }\n",
              "  </style>\n",
              "\n",
              "    <script>\n",
              "      const buttonEl =\n",
              "        document.querySelector('#df-bef037b8-db7b-4c41-b016-11babe479259 button.colab-df-convert');\n",
              "      buttonEl.style.display =\n",
              "        google.colab.kernel.accessAllowed ? 'block' : 'none';\n",
              "\n",
              "      async function convertToInteractive(key) {\n",
              "        const element = document.querySelector('#df-bef037b8-db7b-4c41-b016-11babe479259');\n",
              "        const dataTable =\n",
              "          await google.colab.kernel.invokeFunction('convertToInteractive',\n",
              "                                                    [key], {});\n",
              "        if (!dataTable) return;\n",
              "\n",
              "        const docLinkHtml = 'Like what you see? Visit the ' +\n",
              "          '<a target=\"_blank\" href=https://colab.research.google.com/notebooks/data_table.ipynb>data table notebook</a>'\n",
              "          + ' to learn more about interactive tables.';\n",
              "        element.innerHTML = '';\n",
              "        dataTable['output_type'] = 'display_data';\n",
              "        await google.colab.output.renderOutput(dataTable, element);\n",
              "        const docLink = document.createElement('div');\n",
              "        docLink.innerHTML = docLinkHtml;\n",
              "        element.appendChild(docLink);\n",
              "      }\n",
              "    </script>\n",
              "  </div>\n",
              "\n",
              "\n",
              "<div id=\"df-ef497993-d397-4080-84d7-83669e90b55c\">\n",
              "  <button class=\"colab-df-quickchart\" onclick=\"quickchart('df-ef497993-d397-4080-84d7-83669e90b55c')\"\n",
              "            title=\"Suggest charts\"\n",
              "            style=\"display:none;\">\n",
              "\n",
              "<svg xmlns=\"http://www.w3.org/2000/svg\" height=\"24px\"viewBox=\"0 0 24 24\"\n",
              "     width=\"24px\">\n",
              "    <g>\n",
              "        <path d=\"M19 3H5c-1.1 0-2 .9-2 2v14c0 1.1.9 2 2 2h14c1.1 0 2-.9 2-2V5c0-1.1-.9-2-2-2zM9 17H7v-7h2v7zm4 0h-2V7h2v10zm4 0h-2v-4h2v4z\"/>\n",
              "    </g>\n",
              "</svg>\n",
              "  </button>\n",
              "\n",
              "<style>\n",
              "  .colab-df-quickchart {\n",
              "      --bg-color: #E8F0FE;\n",
              "      --fill-color: #1967D2;\n",
              "      --hover-bg-color: #E2EBFA;\n",
              "      --hover-fill-color: #174EA6;\n",
              "      --disabled-fill-color: #AAA;\n",
              "      --disabled-bg-color: #DDD;\n",
              "  }\n",
              "\n",
              "  [theme=dark] .colab-df-quickchart {\n",
              "      --bg-color: #3B4455;\n",
              "      --fill-color: #D2E3FC;\n",
              "      --hover-bg-color: #434B5C;\n",
              "      --hover-fill-color: #FFFFFF;\n",
              "      --disabled-bg-color: #3B4455;\n",
              "      --disabled-fill-color: #666;\n",
              "  }\n",
              "\n",
              "  .colab-df-quickchart {\n",
              "    background-color: var(--bg-color);\n",
              "    border: none;\n",
              "    border-radius: 50%;\n",
              "    cursor: pointer;\n",
              "    display: none;\n",
              "    fill: var(--fill-color);\n",
              "    height: 32px;\n",
              "    padding: 0;\n",
              "    width: 32px;\n",
              "  }\n",
              "\n",
              "  .colab-df-quickchart:hover {\n",
              "    background-color: var(--hover-bg-color);\n",
              "    box-shadow: 0 1px 2px rgba(60, 64, 67, 0.3), 0 1px 3px 1px rgba(60, 64, 67, 0.15);\n",
              "    fill: var(--button-hover-fill-color);\n",
              "  }\n",
              "\n",
              "  .colab-df-quickchart-complete:disabled,\n",
              "  .colab-df-quickchart-complete:disabled:hover {\n",
              "    background-color: var(--disabled-bg-color);\n",
              "    fill: var(--disabled-fill-color);\n",
              "    box-shadow: none;\n",
              "  }\n",
              "\n",
              "  .colab-df-spinner {\n",
              "    border: 2px solid var(--fill-color);\n",
              "    border-color: transparent;\n",
              "    border-bottom-color: var(--fill-color);\n",
              "    animation:\n",
              "      spin 1s steps(1) infinite;\n",
              "  }\n",
              "\n",
              "  @keyframes spin {\n",
              "    0% {\n",
              "      border-color: transparent;\n",
              "      border-bottom-color: var(--fill-color);\n",
              "      border-left-color: var(--fill-color);\n",
              "    }\n",
              "    20% {\n",
              "      border-color: transparent;\n",
              "      border-left-color: var(--fill-color);\n",
              "      border-top-color: var(--fill-color);\n",
              "    }\n",
              "    30% {\n",
              "      border-color: transparent;\n",
              "      border-left-color: var(--fill-color);\n",
              "      border-top-color: var(--fill-color);\n",
              "      border-right-color: var(--fill-color);\n",
              "    }\n",
              "    40% {\n",
              "      border-color: transparent;\n",
              "      border-right-color: var(--fill-color);\n",
              "      border-top-color: var(--fill-color);\n",
              "    }\n",
              "    60% {\n",
              "      border-color: transparent;\n",
              "      border-right-color: var(--fill-color);\n",
              "    }\n",
              "    80% {\n",
              "      border-color: transparent;\n",
              "      border-right-color: var(--fill-color);\n",
              "      border-bottom-color: var(--fill-color);\n",
              "    }\n",
              "    90% {\n",
              "      border-color: transparent;\n",
              "      border-bottom-color: var(--fill-color);\n",
              "    }\n",
              "  }\n",
              "</style>\n",
              "\n",
              "  <script>\n",
              "    async function quickchart(key) {\n",
              "      const quickchartButtonEl =\n",
              "        document.querySelector('#' + key + ' button');\n",
              "      quickchartButtonEl.disabled = true;  // To prevent multiple clicks.\n",
              "      quickchartButtonEl.classList.add('colab-df-spinner');\n",
              "      try {\n",
              "        const charts = await google.colab.kernel.invokeFunction(\n",
              "            'suggestCharts', [key], {});\n",
              "      } catch (error) {\n",
              "        console.error('Error during call to suggestCharts:', error);\n",
              "      }\n",
              "      quickchartButtonEl.classList.remove('colab-df-spinner');\n",
              "      quickchartButtonEl.classList.add('colab-df-quickchart-complete');\n",
              "    }\n",
              "    (() => {\n",
              "      let quickchartButtonEl =\n",
              "        document.querySelector('#df-ef497993-d397-4080-84d7-83669e90b55c button');\n",
              "      quickchartButtonEl.style.display =\n",
              "        google.colab.kernel.accessAllowed ? 'block' : 'none';\n",
              "    })();\n",
              "  </script>\n",
              "</div>\n",
              "\n",
              "    </div>\n",
              "  </div>\n"
            ],
            "application/vnd.google.colaboratory.intrinsic+json": {
              "type": "dataframe",
              "variable_name": "df",
              "summary": "{\n  \"name\": \"df\",\n  \"rows\": 60000,\n  \"fields\": [\n    {\n      \"column\": \"Product\",\n      \"properties\": {\n        \"dtype\": \"category\",\n        \"num_unique_values\": 7,\n        \"samples\": [\n          \"Student loan\",\n          \"Credit card\",\n          \"Mortgage\"\n        ],\n        \"semantic_type\": \"\",\n        \"description\": \"\"\n      }\n    },\n    {\n      \"column\": \"Consumer complaint narrative\",\n      \"properties\": {\n        \"dtype\": \"string\",\n        \"num_unique_values\": 59724,\n        \"samples\": [\n          \"Describe events in the order they ocurred, including any names, phone numbers, and a full description of the problem with the amount XXXX XXXX ) and date XXXX XXXX ) of any transaction XXXX XXXX ). Be as brief and complete as possible to make the explanation clear. Do not include personal or confidential information such as your social security, credit card, or bank accounts numbers. \\n\\n\\nHave had an account with Chase for approx. four years. Today they told me they are closing my account and refused to tell me why - stating its their right and they are not required by law to say why. Currently there is a small balance and next week my Social Security XXXX payment gets ACH into the account XXXX to late to stop XXXX. I was told Chase would refund the money in XXXX weeks after the account is finished closing. This will make me late on my mortage causing late fees and more. About a XXXX ago I had some NSF from auto debits. I called Chase told them would put money into the account ot cover the overdrafts ( and did so ) Chase even refund XXXX of the NSF fees as I was a good client, plus was told do n't worry everthing is ok. This is the only possible reason I can see why they would do this.\",\n          \"Huntington Bank ( XXXX branch ) refused all efforts to withdraw funds as directed. I lost the purchase of property located in Texas. \\n\\nThis bank ca n't account correctly. Essentially they stole thousands of dollars from me!\",\n          \"first after I tried to refi with them the  set 1 paym ent schedule then they tried to withdraw that. as I am struggling to make payments they keep changing the amount due from what they originally said for my fixed rate. over the years they have filed foreclosure and forced me to file bankruptcy 4 times. every other month now since  XXXX    XXXX   they send foreclosure papers out 45 days after a due date and a payment has been made even though it was more than what was set from the last refi. I made the requested payment every month even though it was more than what was set. they are the worst management company. they have service reps in  XXXX  that do not know what is goin g on in the US for days later.\"\n        ],\n        \"semantic_type\": \"\",\n        \"description\": \"\"\n      }\n    }\n  ]\n}"
            }
          },
          "metadata": {},
          "execution_count": 9
        }
      ],
      "source": [
        "# Import data\n",
        "df = pd.read_csv('https://raw.githubusercontent.com/bvalencia07/dsc-introduction-to-keras-lab/solution/Bank_complaints.csv')\n",
        "\n",
        "# Inspect data\n",
        "print(df.info())\n",
        "df.head()"
      ]
    },
    {
      "cell_type": "markdown",
      "metadata": {
        "id": "X7eVJ1kDRQTn"
      },
      "source": [
        "As mentioned earlier, your task is to categorize banking complaints into various predefined categories. Preview what these categories are and what percent of the complaints each accounts for."
      ]
    },
    {
      "cell_type": "code",
      "execution_count": 10,
      "metadata": {
        "id": "INrkdyCbRQTo",
        "outputId": "19fed68a-25e1-4358-e766-c5258c901824",
        "colab": {
          "base_uri": "https://localhost:8080/",
          "height": 335
        }
      },
      "outputs": [
        {
          "output_type": "execute_result",
          "data": {
            "text/plain": [
              "Product\n",
              "Student loan                   0.190067\n",
              "Credit card                    0.159000\n",
              "Consumer Loan                  0.157900\n",
              "Mortgage                       0.138867\n",
              "Bank account or service        0.138483\n",
              "Credit reporting               0.114400\n",
              "Checking or savings account    0.101283\n",
              "Name: proportion, dtype: float64"
            ],
            "text/html": [
              "<div>\n",
              "<style scoped>\n",
              "    .dataframe tbody tr th:only-of-type {\n",
              "        vertical-align: middle;\n",
              "    }\n",
              "\n",
              "    .dataframe tbody tr th {\n",
              "        vertical-align: top;\n",
              "    }\n",
              "\n",
              "    .dataframe thead th {\n",
              "        text-align: right;\n",
              "    }\n",
              "</style>\n",
              "<table border=\"1\" class=\"dataframe\">\n",
              "  <thead>\n",
              "    <tr style=\"text-align: right;\">\n",
              "      <th></th>\n",
              "      <th>proportion</th>\n",
              "    </tr>\n",
              "    <tr>\n",
              "      <th>Product</th>\n",
              "      <th></th>\n",
              "    </tr>\n",
              "  </thead>\n",
              "  <tbody>\n",
              "    <tr>\n",
              "      <th>Student loan</th>\n",
              "      <td>0.190067</td>\n",
              "    </tr>\n",
              "    <tr>\n",
              "      <th>Credit card</th>\n",
              "      <td>0.159000</td>\n",
              "    </tr>\n",
              "    <tr>\n",
              "      <th>Consumer Loan</th>\n",
              "      <td>0.157900</td>\n",
              "    </tr>\n",
              "    <tr>\n",
              "      <th>Mortgage</th>\n",
              "      <td>0.138867</td>\n",
              "    </tr>\n",
              "    <tr>\n",
              "      <th>Bank account or service</th>\n",
              "      <td>0.138483</td>\n",
              "    </tr>\n",
              "    <tr>\n",
              "      <th>Credit reporting</th>\n",
              "      <td>0.114400</td>\n",
              "    </tr>\n",
              "    <tr>\n",
              "      <th>Checking or savings account</th>\n",
              "      <td>0.101283</td>\n",
              "    </tr>\n",
              "  </tbody>\n",
              "</table>\n",
              "</div><br><label><b>dtype:</b> float64</label>"
            ]
          },
          "metadata": {},
          "execution_count": 10
        }
      ],
      "source": [
        "df['Product'].value_counts(normalize=True)"
      ]
    },
    {
      "cell_type": "markdown",
      "metadata": {
        "id": "KDXBaxhiRQTo"
      },
      "source": [
        "## Preprocessing\n",
        "\n",
        "Before we build our neural network, we need to do several preprocessing steps. First, we will create word vector counts (a bag of words type representation) of our complaints text. Next, we will change the category labels to integers. Finally, we will perform our usual train-test split before building and training our neural network using Keras. With that, let's start munging our data!\n",
        "\n",
        "## One-hot encoding of the complaints\n",
        "\n",
        "Our first step again is to transform our textual data into a numerical representation. As we saw in some of our previous lessons on NLP, there are many ways to do this. Here, we'll use the `Tokenizer()` class from the `preprocessing.text` sub-module of the Keras package.   \n",
        "\n",
        "As with our previous work using NLTK, this will transform our text complaints into word vectors. (Note that the method of creating a vector is different from our previous work with NLTK; as you'll see, word order will be preserved as opposed to a bag of words representation). In the below code, we'll only keep the 2,000 most common words and use one-hot encoding.\n",
        "\n"
      ]
    },
    {
      "cell_type": "code",
      "execution_count": 11,
      "metadata": {
        "id": "KXuplP29RQTo"
      },
      "outputs": [],
      "source": [
        "# As a quick preliminary, briefly review the docstring for keras.preprocessing.text.Tokenizer\n",
        "Tokenizer?"
      ]
    },
    {
      "cell_type": "code",
      "execution_count": 12,
      "metadata": {
        "id": "BOSrMZfwRQTo",
        "outputId": "93e54c33-de68-4642-a981-cd5aa308e669",
        "colab": {
          "base_uri": "https://localhost:8080/"
        }
      },
      "outputs": [
        {
          "output_type": "stream",
          "name": "stdout",
          "text": [
            "sequences type: <class 'list'>\n",
            "one_hot_results type: <class 'numpy.ndarray'>\n",
            "Found 50110 unique tokens.\n",
            "Dimensions of our coded results: (60000, 2000)\n"
          ]
        }
      ],
      "source": [
        "# ⏰ This cell may take about thirty seconds to run\n",
        "\n",
        "# Raw text complaints\n",
        "complaints = df['Consumer complaint narrative']\n",
        "\n",
        "# Initialize a tokenizer\n",
        "tokenizer = Tokenizer(num_words=2000)\n",
        "\n",
        "# Fit it to the complaints\n",
        "tokenizer.fit_on_texts(complaints)\n",
        "\n",
        "# Generate sequences\n",
        "sequences = tokenizer.texts_to_sequences(complaints)\n",
        "print('sequences type:', type(sequences))\n",
        "\n",
        "# Similar to sequences, but returns a numpy array\n",
        "one_hot_results= tokenizer.texts_to_matrix(complaints, mode='binary')\n",
        "print('one_hot_results type:', type(one_hot_results))\n",
        "\n",
        "# Useful if we wish to decode (more explanation below)\n",
        "word_index = tokenizer.word_index\n",
        "\n",
        "# Tokens are the number of unique words across the corpus\n",
        "print('Found %s unique tokens.' % len(word_index))\n",
        "\n",
        "# Our coded data\n",
        "print('Dimensions of our coded results:', np.shape(one_hot_results))"
      ]
    },
    {
      "cell_type": "markdown",
      "metadata": {
        "id": "MMG1pGrDRQTy"
      },
      "source": [
        "## Decoding Word Vectors\n",
        "\n",
        "As a note, you can also decode these vectorized representations of the reviews. The `word_index` variable, defined above, stores the mapping from the label number to the actual word. Somewhat tediously, we can turn this dictionary inside out and map it back to our word vectors, giving us roughly the original complaint back. (As you'll see, the text won't be identical as we limited ourselves to top 2000 words.)\n",
        "\n",
        "## Python Review / Mini Challenge\n",
        "\n",
        "While a bit tangential to our main topic of interest, we need to reverse our current dictionary `word_index` which maps words from our corpus to integers. In decoding our `one_hot_results`, we will need to create a dictionary of these integers to the original words. Below, take the `word_index` dictionary object and change the orientation so that the values are keys and the keys values. In other words, you are transforming something of the form {A:1, B:2, C:3} to {1:A, 2:B, 3:C}."
      ]
    },
    {
      "cell_type": "code",
      "execution_count": 13,
      "metadata": {
        "id": "E8A5vWQbRQTy"
      },
      "outputs": [],
      "source": [
        "# Your code here\n",
        "reverse_index = dict([(value, key) for (key, value) in word_index.items()])"
      ]
    },
    {
      "cell_type": "markdown",
      "metadata": {
        "id": "rrIN4fTuRQTy"
      },
      "source": [
        "## Back to Decoding Our Word Vectors..."
      ]
    },
    {
      "cell_type": "code",
      "execution_count": 14,
      "metadata": {
        "id": "aQDMRrqKRQTy",
        "outputId": "59c41b85-d1e7-44e7-8fad-b164a309dced",
        "colab": {
          "base_uri": "https://localhost:8080/"
        }
      },
      "outputs": [
        {
          "output_type": "stream",
          "name": "stdout",
          "text": [
            "Original complaint text:\n",
            "I have already filed several complaints about AES/PHEAA. I was notified by a XXXX XXXX let @ XXXX, who pretended to be from your office, he said he was from CFPB. I found out this morning he is n't from your office, but is actually works at XXXX. \n",
            "\n",
            "This has wasted weeks of my time. They AES/PHEAA confirmed and admitted ( see attached transcript of XXXX, conversation at XXXX ( XXXX ) with XXXX that proves they verified the loans are not mine ) the student loans they had XXXX, and collected on, and reported negate credit reporting in my name are in fact, not mine. \n",
            "They conclued their investigation on XXXX admitting they made a mistake and have my name on soneone elses loans. I these XXXX loans total {$10000.00}, original amount. My XXXX loans I got was total {$3500.00}. We proved by providing AES/PHEAA, this with my original promissary notes I located recently, the XXXX of my college provided AES/PHEAA with their original shoeinf amounts of my XXXX loans which show different dates and amounts, the dates and amounts are not even close to matching these loans they have in my name, The original lender, XXXX XXXX Bank notifying AES/PHEAA, they never issued me a student loan, and original Loan Guarantor, XXXX, notifying AES/PHEAA, they never were guarantor of my loans. \n",
            "\n",
            "XXXX straight forward. But today, this person, XXXX XXXX, told me they know these loans are not mine, and they refuse to remove my name off these XXXX loan 's and correct their mistake, essentially forcing me to pay these loans off, bucause in XXXX they sold the loans to XXXX loans. \n",
            "\n",
            "This is absurd, first protruding to be this office, and then refusing to correct their mistake. \n",
            "\n",
            "Please for the love of XXXX will soneone from your office call me at XXXX, today. I am a XXXX vet and they are knowingly discriminating against me. \n",
            "Pretending to be you.\n",
            "\n",
            "\n",
            "\n",
            "Decoded review from Tokenizer:\n",
            "i have already filed several complaints about aes i was notified by a xxxx xxxx let xxxx who to be from your office he said he was from cfpb i found out this morning he is n't from your office but is actually works at xxxx this has weeks of my time they aes confirmed and admitted see attached of xxxx conversation at xxxx xxxx with xxxx that they verified the loans are not mine the student loans they had xxxx and on and reported credit reporting in my name are in fact not mine they their investigation on xxxx they made a mistake and have my name on loans i these xxxx loans total 10000 00 original amount my xxxx loans i got was total 00 we by providing aes this with my original notes i located recently the xxxx of my college provided aes with their original amounts of my xxxx loans which show different dates and amounts the dates and amounts are not even close to these loans they have in my name the original lender xxxx xxxx bank notifying aes they never issued me a student loan and original loan xxxx notifying aes they never were of my loans xxxx forward but today this person xxxx xxxx told me they know these loans are not mine and they refuse to remove my name off these xxxx loan 's and correct their mistake essentially me to pay these loans off in xxxx they sold the loans to xxxx loans this is first to be this office and then refusing to correct their mistake please for the of xxxx will from your office call me at xxxx today i am a xxxx and they are against me to be you\n"
          ]
        }
      ],
      "source": [
        "comment_idx_to_preview = 19\n",
        "print('Original complaint text:')\n",
        "print(complaints[comment_idx_to_preview])\n",
        "print('\\n\\n')\n",
        "\n",
        "# The reverse_index cell block above must be complete in order for this cell block to successively execute\n",
        "decoded_review = ' '.join([reverse_index.get(i) for i in sequences[comment_idx_to_preview]])\n",
        "print('Decoded review from Tokenizer:')\n",
        "print(decoded_review)"
      ]
    },
    {
      "cell_type": "markdown",
      "metadata": {
        "id": "X0yJByYrRQTz"
      },
      "source": [
        "## Convert the Products to Numerical Categories\n",
        "\n",
        "On to step two of our preprocessing: converting our descriptive categories into integers."
      ]
    },
    {
      "cell_type": "code",
      "execution_count": 15,
      "metadata": {
        "id": "Qo1si_yTRQTz",
        "outputId": "7b908a55-66ab-4075-8d92-e23c5370e086",
        "colab": {
          "base_uri": "https://localhost:8080/"
        }
      },
      "outputs": [
        {
          "output_type": "stream",
          "name": "stdout",
          "text": [
            "Original class labels:\n",
            "['Bank account or service', 'Checking or savings account', 'Consumer Loan', 'Credit card', 'Credit reporting', 'Mortgage', 'Student loan']\n",
            "\n",
            "\n",
            "New product labels:\n",
            "[6 6 6 ... 4 4 4]\n",
            "\n",
            "\n",
            "One hot labels; 7 binary columns, one for each of the categories.\n",
            "[[0. 0. 0. ... 0. 0. 1.]\n",
            " [0. 0. 0. ... 0. 0. 1.]\n",
            " [0. 0. 0. ... 0. 0. 1.]\n",
            " ...\n",
            " [0. 0. 0. ... 1. 0. 0.]\n",
            " [0. 0. 0. ... 1. 0. 0.]\n",
            " [0. 0. 0. ... 1. 0. 0.]]\n",
            "\n",
            "\n",
            "One hot labels shape:\n",
            "(60000, 7)\n"
          ]
        }
      ],
      "source": [
        "product = df['Product']\n",
        "\n",
        "# Initialize\n",
        "le = preprocessing.LabelEncoder()\n",
        "le.fit(product)\n",
        "print('Original class labels:')\n",
        "print(list(le.classes_))\n",
        "print('\\n')\n",
        "product_cat = le.transform(product)\n",
        "\n",
        "# If you wish to retrieve the original descriptive labels post production\n",
        "# list(le.inverse_transform([0, 1, 3, 3, 0, 6, 4]))\n",
        "\n",
        "print('New product labels:')\n",
        "print(product_cat)\n",
        "print('\\n')\n",
        "\n",
        "# Each row will be all zeros except for the category for that observation\n",
        "print('One hot labels; 7 binary columns, one for each of the categories.')\n",
        "product_onehot = to_categorical(product_cat)\n",
        "print(product_onehot)\n",
        "print('\\n')\n",
        "\n",
        "print('One hot labels shape:')\n",
        "print(np.shape(product_onehot))"
      ]
    },
    {
      "cell_type": "markdown",
      "metadata": {
        "id": "m_kuBnGBRQTz"
      },
      "source": [
        "## Train-test split\n",
        "\n",
        "Now for our final preprocessing step: the usual train-test split."
      ]
    },
    {
      "cell_type": "code",
      "execution_count": 16,
      "metadata": {
        "id": "5pWH9xL2RQTz",
        "outputId": "bb9dfc57-4941-404b-e923-6b9635fbd53e",
        "colab": {
          "base_uri": "https://localhost:8080/"
        }
      },
      "outputs": [
        {
          "output_type": "stream",
          "name": "stdout",
          "text": [
            "Test label shape: (1500, 7)\n",
            "Train label shape: (58500, 7)\n",
            "Test shape: (1500, 2000)\n",
            "Train shape: (58500, 2000)\n"
          ]
        }
      ],
      "source": [
        "random.seed(123)\n",
        "test_index = random.sample(range(1,10000), 1500)\n",
        "\n",
        "test = one_hot_results[test_index]\n",
        "train = np.delete(one_hot_results, test_index, 0)\n",
        "\n",
        "label_test = product_onehot[test_index]\n",
        "label_train = np.delete(product_onehot, test_index, 0)\n",
        "\n",
        "print('Test label shape:', np.shape(label_test))\n",
        "print('Train label shape:', np.shape(label_train))\n",
        "print('Test shape:', np.shape(test))\n",
        "print('Train shape:', np.shape(train))"
      ]
    },
    {
      "cell_type": "markdown",
      "metadata": {
        "id": "lU_pneikRQTz"
      },
      "source": [
        "## Building the network\n",
        "\n",
        "Let's build a fully connected (Dense) layer network with relu activation in Keras. You can do this using: `Dense(16, activation='relu')`.\n",
        "\n",
        "In this example, use two hidden layers with 50 units in the first layer and 25 in the second, both with a `'relu'` activation function. Because we are dealing with a multiclass problem (classifying the complaints into 7 categories), we use a use a `'softmax'` classifier in order to output 7 class probabilities per case.  "
      ]
    },
    {
      "cell_type": "code",
      "execution_count": 17,
      "metadata": {
        "id": "THHTmIRKRQTz",
        "outputId": "4677bfc8-9e11-4f43-dabb-17f5e653eb29",
        "colab": {
          "base_uri": "https://localhost:8080/"
        }
      },
      "outputs": [
        {
          "output_type": "stream",
          "name": "stderr",
          "text": [
            "/usr/local/lib/python3.10/dist-packages/keras/src/layers/core/dense.py:87: UserWarning: Do not pass an `input_shape`/`input_dim` argument to a layer. When using Sequential models, prefer using an `Input(shape)` object as the first layer in the model instead.\n",
            "  super().__init__(activity_regularizer=activity_regularizer, **kwargs)\n"
          ]
        }
      ],
      "source": [
        "# Initialize a sequential model\n",
        "model = models.Sequential()\n",
        "\n",
        "# Two layers with relu activation\n",
        "model.add(layers.Dense(50, activation='relu', input_shape=(2000,)))\n",
        "model.add(layers.Dense(25, activation='relu'))\n",
        "\n",
        "# One layer with softmax activation\n",
        "model.add(layers.Dense(7, activation='softmax'))"
      ]
    },
    {
      "cell_type": "markdown",
      "metadata": {
        "id": "HT6OT4Y6RQT0"
      },
      "source": [
        "## Compiling the model\n",
        "\n",
        "Now, compile the model! This time, use `'categorical_crossentropy'` as the loss function and stochastic gradient descent, `'SGD'` as the optimizer. As in the previous lesson, include the accuracy as a metric."
      ]
    },
    {
      "cell_type": "code",
      "execution_count": 18,
      "metadata": {
        "id": "Ifr9RL1iRQT0"
      },
      "outputs": [],
      "source": [
        "\n",
        "# Compile the model\n",
        "model.compile(optimizer='SGD',\n",
        "              loss='categorical_crossentropy',\n",
        "              metrics=['acc'])"
      ]
    },
    {
      "cell_type": "markdown",
      "metadata": {
        "id": "f297YRIvRQT0"
      },
      "source": [
        "## Training the model\n",
        "\n",
        "In the compiler, you'll be passing the optimizer (SGD = stochastic gradient descent), loss function, and metrics. Train the model for 120 epochs in mini-batches of 256 samples.\n",
        "\n",
        "_Note:_ ⏰ _Your code may take about one to two minutes to run._"
      ]
    },
    {
      "cell_type": "code",
      "execution_count": 19,
      "metadata": {
        "id": "NQqHNrRWRQT0",
        "outputId": "0690224a-a181-4cc4-bca1-b8b40387a96c",
        "colab": {
          "base_uri": "https://localhost:8080/"
        }
      },
      "outputs": [
        {
          "metadata": {
            "tags": null
          },
          "name": "stdout",
          "output_type": "stream",
          "text": [
            "Epoch 1/120\n",
            "\u001b[1m229/229\u001b[0m \u001b[32m━━━━━━━━━━━━━━━━━━━━\u001b[0m\u001b[37m\u001b[0m \u001b[1m3s\u001b[0m 7ms/step - acc: 0.1654 - loss: 1.9391\n",
            "Epoch 2/120\n",
            "\u001b[1m229/229\u001b[0m \u001b[32m━━━━━━━━━━━━━━━━━━━━\u001b[0m\u001b[37m\u001b[0m \u001b[1m2s\u001b[0m 6ms/step - acc: 0.3367 - loss: 1.7911\n",
            "Epoch 3/120\n",
            "\u001b[1m229/229\u001b[0m \u001b[32m━━━━━━━━━━━━━━━━━━━━\u001b[0m\u001b[37m\u001b[0m \u001b[1m3s\u001b[0m 8ms/step - acc: 0.5531 - loss: 1.4699\n",
            "Epoch 4/120\n",
            "\u001b[1m229/229\u001b[0m \u001b[32m━━━━━━━━━━━━━━━━━━━━\u001b[0m\u001b[37m\u001b[0m \u001b[1m2s\u001b[0m 6ms/step - acc: 0.6677 - loss: 1.1170\n",
            "Epoch 5/120\n",
            "\u001b[1m229/229\u001b[0m \u001b[32m━━━━━━━━━━━━━━━━━━━━\u001b[0m\u001b[37m\u001b[0m \u001b[1m2s\u001b[0m 8ms/step - acc: 0.7096 - loss: 0.8953\n",
            "Epoch 6/120\n",
            "\u001b[1m229/229\u001b[0m \u001b[32m━━━━━━━━━━━━━━━━━━━━\u001b[0m\u001b[37m\u001b[0m \u001b[1m3s\u001b[0m 10ms/step - acc: 0.7290 - loss: 0.7804\n",
            "Epoch 7/120\n",
            "\u001b[1m229/229\u001b[0m \u001b[32m━━━━━━━━━━━━━━━━━━━━\u001b[0m\u001b[37m\u001b[0m \u001b[1m2s\u001b[0m 8ms/step - acc: 0.7454 - loss: 0.7109\n",
            "Epoch 8/120\n",
            "\u001b[1m229/229\u001b[0m \u001b[32m━━━━━━━━━━━━━━━━━━━━\u001b[0m\u001b[37m\u001b[0m \u001b[1m2s\u001b[0m 8ms/step - acc: 0.7533 - loss: 0.6794\n",
            "Epoch 9/120\n",
            "\u001b[1m229/229\u001b[0m \u001b[32m━━━━━━━━━━━━━━━━━━━━\u001b[0m\u001b[37m\u001b[0m \u001b[1m2s\u001b[0m 7ms/step - acc: 0.7680 - loss: 0.6418\n",
            "Epoch 10/120\n",
            "\u001b[1m229/229\u001b[0m \u001b[32m━━━━━━━━━━━━━━━━━━━━\u001b[0m\u001b[37m\u001b[0m \u001b[1m3s\u001b[0m 7ms/step - acc: 0.7721 - loss: 0.6206\n",
            "Epoch 11/120\n",
            "\u001b[1m229/229\u001b[0m \u001b[32m━━━━━━━━━━━━━━━━━━━━\u001b[0m\u001b[37m\u001b[0m \u001b[1m3s\u001b[0m 10ms/step - acc: 0.7774 - loss: 0.6053\n",
            "Epoch 12/120\n",
            "\u001b[1m229/229\u001b[0m \u001b[32m━━━━━━━━━━━━━━━━━━━━\u001b[0m\u001b[37m\u001b[0m \u001b[1m2s\u001b[0m 9ms/step - acc: 0.7844 - loss: 0.5856\n",
            "Epoch 13/120\n",
            "\u001b[1m229/229\u001b[0m \u001b[32m━━━━━━━━━━━━━━━━━━━━\u001b[0m\u001b[37m\u001b[0m \u001b[1m2s\u001b[0m 7ms/step - acc: 0.7876 - loss: 0.5813\n",
            "Epoch 14/120\n",
            "\u001b[1m229/229\u001b[0m \u001b[32m━━━━━━━━━━━━━━━━━━━━\u001b[0m\u001b[37m\u001b[0m \u001b[1m1s\u001b[0m 6ms/step - acc: 0.7967 - loss: 0.5609\n",
            "Epoch 15/120\n",
            "\u001b[1m229/229\u001b[0m \u001b[32m━━━━━━━━━━━━━━━━━━━━\u001b[0m\u001b[37m\u001b[0m \u001b[1m2s\u001b[0m 7ms/step - acc: 0.7952 - loss: 0.5594\n",
            "Epoch 16/120\n",
            "\u001b[1m229/229\u001b[0m \u001b[32m━━━━━━━━━━━━━━━━━━━━\u001b[0m\u001b[37m\u001b[0m \u001b[1m2s\u001b[0m 6ms/step - acc: 0.8059 - loss: 0.5379\n",
            "Epoch 17/120\n",
            "\u001b[1m229/229\u001b[0m \u001b[32m━━━━━━━━━━━━━━━━━━━━\u001b[0m\u001b[37m\u001b[0m \u001b[1m3s\u001b[0m 8ms/step - acc: 0.8070 - loss: 0.5337\n",
            "Epoch 18/120\n",
            "\u001b[1m229/229\u001b[0m \u001b[32m━━━━━━━━━━━━━━━━━━━━\u001b[0m\u001b[37m\u001b[0m \u001b[1m2s\u001b[0m 10ms/step - acc: 0.8129 - loss: 0.5192\n",
            "Epoch 19/120\n",
            "\u001b[1m229/229\u001b[0m \u001b[32m━━━━━━━━━━━━━━━━━━━━\u001b[0m\u001b[37m\u001b[0m \u001b[1m2s\u001b[0m 8ms/step - acc: 0.8123 - loss: 0.5199\n",
            "Epoch 20/120\n",
            "\u001b[1m229/229\u001b[0m \u001b[32m━━━━━━━━━━━━━━━━━━━━\u001b[0m\u001b[37m\u001b[0m \u001b[1m3s\u001b[0m 10ms/step - acc: 0.8140 - loss: 0.5184\n",
            "Epoch 21/120\n",
            "\u001b[1m229/229\u001b[0m \u001b[32m━━━━━━━━━━━━━━━━━━━━\u001b[0m\u001b[37m\u001b[0m \u001b[1m2s\u001b[0m 7ms/step - acc: 0.8183 - loss: 0.5055\n",
            "Epoch 22/120\n",
            "\u001b[1m229/229\u001b[0m \u001b[32m━━━━━━━━━━━━━━━━━━━━\u001b[0m\u001b[37m\u001b[0m \u001b[1m2s\u001b[0m 7ms/step - acc: 0.8190 - loss: 0.5022\n",
            "Epoch 23/120\n",
            "\u001b[1m229/229\u001b[0m \u001b[32m━━━━━━━━━━━━━━━━━━━━\u001b[0m\u001b[37m\u001b[0m \u001b[1m2s\u001b[0m 6ms/step - acc: 0.8225 - loss: 0.4889\n",
            "Epoch 24/120\n",
            "\u001b[1m229/229\u001b[0m \u001b[32m━━━━━━━━━━━━━━━━━━━━\u001b[0m\u001b[37m\u001b[0m \u001b[1m3s\u001b[0m 10ms/step - acc: 0.8229 - loss: 0.4920\n",
            "Epoch 25/120\n",
            "\u001b[1m229/229\u001b[0m \u001b[32m━━━━━━━━━━━━━━━━━━━━\u001b[0m\u001b[37m\u001b[0m \u001b[1m2s\u001b[0m 7ms/step - acc: 0.8275 - loss: 0.4848\n",
            "Epoch 26/120\n",
            "\u001b[1m229/229\u001b[0m \u001b[32m━━━━━━━━━━━━━━━━━━━━\u001b[0m\u001b[37m\u001b[0m \u001b[1m3s\u001b[0m 6ms/step - acc: 0.8295 - loss: 0.4797\n",
            "Epoch 27/120\n",
            "\u001b[1m229/229\u001b[0m \u001b[32m━━━━━━━━━━━━━━━━━━━━\u001b[0m\u001b[37m\u001b[0m \u001b[1m3s\u001b[0m 7ms/step - acc: 0.8306 - loss: 0.4745\n",
            "Epoch 28/120\n",
            "\u001b[1m229/229\u001b[0m \u001b[32m━━━━━━━━━━━━━━━━━━━━\u001b[0m\u001b[37m\u001b[0m \u001b[1m2s\u001b[0m 7ms/step - acc: 0.8310 - loss: 0.4698\n",
            "Epoch 29/120\n",
            "\u001b[1m229/229\u001b[0m \u001b[32m━━━━━━━━━━━━━━━━━━━━\u001b[0m\u001b[37m\u001b[0m \u001b[1m3s\u001b[0m 8ms/step - acc: 0.8328 - loss: 0.4678\n",
            "Epoch 30/120\n",
            "\u001b[1m229/229\u001b[0m \u001b[32m━━━━━━━━━━━━━━━━━━━━\u001b[0m\u001b[37m\u001b[0m \u001b[1m3s\u001b[0m 10ms/step - acc: 0.8354 - loss: 0.4657\n",
            "Epoch 31/120\n",
            "\u001b[1m229/229\u001b[0m \u001b[32m━━━━━━━━━━━━━━━━━━━━\u001b[0m\u001b[37m\u001b[0m \u001b[1m2s\u001b[0m 7ms/step - acc: 0.8363 - loss: 0.4634\n",
            "Epoch 32/120\n",
            "\u001b[1m229/229\u001b[0m \u001b[32m━━━━━━━━━━━━━━━━━━━━\u001b[0m\u001b[37m\u001b[0m \u001b[1m2s\u001b[0m 7ms/step - acc: 0.8379 - loss: 0.4544\n",
            "Epoch 33/120\n",
            "\u001b[1m229/229\u001b[0m \u001b[32m━━━━━━━━━━━━━━━━━━━━\u001b[0m\u001b[37m\u001b[0m \u001b[1m2s\u001b[0m 7ms/step - acc: 0.8423 - loss: 0.4511\n",
            "Epoch 34/120\n",
            "\u001b[1m229/229\u001b[0m \u001b[32m━━━━━━━━━━━━━━━━━━━━\u001b[0m\u001b[37m\u001b[0m \u001b[1m3s\u001b[0m 7ms/step - acc: 0.8428 - loss: 0.4463\n",
            "Epoch 35/120\n",
            "\u001b[1m229/229\u001b[0m \u001b[32m━━━━━━━━━━━━━━━━━━━━\u001b[0m\u001b[37m\u001b[0m \u001b[1m2s\u001b[0m 7ms/step - acc: 0.8403 - loss: 0.4479\n",
            "Epoch 36/120\n",
            "\u001b[1m229/229\u001b[0m \u001b[32m━━━━━━━━━━━━━━━━━━━━\u001b[0m\u001b[37m\u001b[0m \u001b[1m3s\u001b[0m 10ms/step - acc: 0.8406 - loss: 0.4466\n",
            "Epoch 37/120\n",
            "\u001b[1m229/229\u001b[0m \u001b[32m━━━━━━━━━━━━━━━━━━━━\u001b[0m\u001b[37m\u001b[0m \u001b[1m2s\u001b[0m 7ms/step - acc: 0.8439 - loss: 0.4431\n",
            "Epoch 38/120\n",
            "\u001b[1m229/229\u001b[0m \u001b[32m━━━━━━━━━━━━━━━━━━━━\u001b[0m\u001b[37m\u001b[0m \u001b[1m2s\u001b[0m 6ms/step - acc: 0.8441 - loss: 0.4427\n",
            "Epoch 39/120\n",
            "\u001b[1m229/229\u001b[0m \u001b[32m━━━━━━━━━━━━━━━━━━━━\u001b[0m\u001b[37m\u001b[0m \u001b[1m2s\u001b[0m 7ms/step - acc: 0.8447 - loss: 0.4369\n",
            "Epoch 40/120\n",
            "\u001b[1m229/229\u001b[0m \u001b[32m━━━━━━━━━━━━━━━━━━━━\u001b[0m\u001b[37m\u001b[0m \u001b[1m3s\u001b[0m 7ms/step - acc: 0.8462 - loss: 0.4315\n",
            "Epoch 41/120\n",
            "\u001b[1m229/229\u001b[0m \u001b[32m━━━━━━━━━━━━━━━━━━━━\u001b[0m\u001b[37m\u001b[0m \u001b[1m2s\u001b[0m 7ms/step - acc: 0.8477 - loss: 0.4313\n",
            "Epoch 42/120\n",
            "\u001b[1m229/229\u001b[0m \u001b[32m━━━━━━━━━━━━━━━━━━━━\u001b[0m\u001b[37m\u001b[0m \u001b[1m4s\u001b[0m 11ms/step - acc: 0.8497 - loss: 0.4227\n",
            "Epoch 43/120\n",
            "\u001b[1m229/229\u001b[0m \u001b[32m━━━━━━━━━━━━━━━━━━━━\u001b[0m\u001b[37m\u001b[0m \u001b[1m2s\u001b[0m 9ms/step - acc: 0.8459 - loss: 0.4284\n",
            "Epoch 44/120\n",
            "\u001b[1m229/229\u001b[0m \u001b[32m━━━━━━━━━━━━━━━━━━━━\u001b[0m\u001b[37m\u001b[0m \u001b[1m2s\u001b[0m 7ms/step - acc: 0.8488 - loss: 0.4228\n",
            "Epoch 45/120\n",
            "\u001b[1m229/229\u001b[0m \u001b[32m━━━━━━━━━━━━━━━━━━━━\u001b[0m\u001b[37m\u001b[0m \u001b[1m2s\u001b[0m 7ms/step - acc: 0.8515 - loss: 0.4188\n",
            "Epoch 46/120\n",
            "\u001b[1m229/229\u001b[0m \u001b[32m━━━━━━━━━━━━━━━━━━━━\u001b[0m\u001b[37m\u001b[0m \u001b[1m3s\u001b[0m 7ms/step - acc: 0.8513 - loss: 0.4194\n",
            "Epoch 47/120\n",
            "\u001b[1m229/229\u001b[0m \u001b[32m━━━━━━━━━━━━━━━━━━━━\u001b[0m\u001b[37m\u001b[0m \u001b[1m2s\u001b[0m 7ms/step - acc: 0.8527 - loss: 0.4212\n",
            "Epoch 48/120\n",
            "\u001b[1m229/229\u001b[0m \u001b[32m━━━━━━━━━━━━━━━━━━━━\u001b[0m\u001b[37m\u001b[0m \u001b[1m3s\u001b[0m 8ms/step - acc: 0.8527 - loss: 0.4154\n",
            "Epoch 49/120\n",
            "\u001b[1m229/229\u001b[0m \u001b[32m━━━━━━━━━━━━━━━━━━━━\u001b[0m\u001b[37m\u001b[0m \u001b[1m3s\u001b[0m 15ms/step - acc: 0.8540 - loss: 0.4132\n",
            "Epoch 50/120\n",
            "\u001b[1m229/229\u001b[0m \u001b[32m━━━━━━━━━━━━━━━━━━━━\u001b[0m\u001b[37m\u001b[0m \u001b[1m4s\u001b[0m 11ms/step - acc: 0.8527 - loss: 0.4143\n",
            "Epoch 51/120\n",
            "\u001b[1m229/229\u001b[0m \u001b[32m━━━━━━━━━━━━━━━━━━━━\u001b[0m\u001b[37m\u001b[0m \u001b[1m2s\u001b[0m 7ms/step - acc: 0.8514 - loss: 0.4127\n",
            "Epoch 52/120\n",
            "\u001b[1m229/229\u001b[0m \u001b[32m━━━━━━━━━━━━━━━━━━━━\u001b[0m\u001b[37m\u001b[0m \u001b[1m2s\u001b[0m 7ms/step - acc: 0.8550 - loss: 0.4066\n",
            "Epoch 53/120\n",
            "\u001b[1m229/229\u001b[0m \u001b[32m━━━━━━━━━━━━━━━━━━━━\u001b[0m\u001b[37m\u001b[0m \u001b[1m3s\u001b[0m 7ms/step - acc: 0.8557 - loss: 0.4081\n",
            "Epoch 54/120\n",
            "\u001b[1m229/229\u001b[0m \u001b[32m━━━━━━━━━━━━━━━━━━━━\u001b[0m\u001b[37m\u001b[0m \u001b[1m3s\u001b[0m 10ms/step - acc: 0.8559 - loss: 0.4073\n",
            "Epoch 55/120\n",
            "\u001b[1m229/229\u001b[0m \u001b[32m━━━━━━━━━━━━━━━━━━━━\u001b[0m\u001b[37m\u001b[0m \u001b[1m2s\u001b[0m 7ms/step - acc: 0.8590 - loss: 0.4003\n",
            "Epoch 56/120\n",
            "\u001b[1m229/229\u001b[0m \u001b[32m━━━━━━━━━━━━━━━━━━━━\u001b[0m\u001b[37m\u001b[0m \u001b[1m3s\u001b[0m 7ms/step - acc: 0.8547 - loss: 0.4050\n",
            "Epoch 57/120\n",
            "\u001b[1m229/229\u001b[0m \u001b[32m━━━━━━━━━━━━━━━━━━━━\u001b[0m\u001b[37m\u001b[0m \u001b[1m3s\u001b[0m 7ms/step - acc: 0.8616 - loss: 0.3923\n",
            "Epoch 58/120\n",
            "\u001b[1m229/229\u001b[0m \u001b[32m━━━━━━━━━━━━━━━━━━━━\u001b[0m\u001b[37m\u001b[0m \u001b[1m2s\u001b[0m 7ms/step - acc: 0.8585 - loss: 0.4001\n",
            "Epoch 59/120\n",
            "\u001b[1m229/229\u001b[0m \u001b[32m━━━━━━━━━━━━━━━━━━━━\u001b[0m\u001b[37m\u001b[0m \u001b[1m3s\u001b[0m 10ms/step - acc: 0.8573 - loss: 0.4014\n",
            "Epoch 60/120\n",
            "\u001b[1m229/229\u001b[0m \u001b[32m━━━━━━━━━━━━━━━━━━━━\u001b[0m\u001b[37m\u001b[0m \u001b[1m2s\u001b[0m 10ms/step - acc: 0.8594 - loss: 0.3963\n",
            "Epoch 61/120\n",
            "\u001b[1m229/229\u001b[0m \u001b[32m━━━━━━━━━━━━━━━━━━━━\u001b[0m\u001b[37m\u001b[0m \u001b[1m2s\u001b[0m 7ms/step - acc: 0.8602 - loss: 0.3969\n",
            "Epoch 62/120\n",
            "\u001b[1m229/229\u001b[0m \u001b[32m━━━━━━━━━━━━━━━━━━━━\u001b[0m\u001b[37m\u001b[0m \u001b[1m2s\u001b[0m 7ms/step - acc: 0.8598 - loss: 0.3959\n",
            "Epoch 63/120\n",
            "\u001b[1m229/229\u001b[0m \u001b[32m━━━━━━━━━━━━━━━━━━━━\u001b[0m\u001b[37m\u001b[0m \u001b[1m3s\u001b[0m 7ms/step - acc: 0.8608 - loss: 0.3919\n",
            "Epoch 64/120\n",
            "\u001b[1m229/229\u001b[0m \u001b[32m━━━━━━━━━━━━━━━━━━━━\u001b[0m\u001b[37m\u001b[0m \u001b[1m2s\u001b[0m 7ms/step - acc: 0.8630 - loss: 0.3870\n",
            "Epoch 65/120\n",
            "\u001b[1m229/229\u001b[0m \u001b[32m━━━━━━━━━━━━━━━━━━━━\u001b[0m\u001b[37m\u001b[0m \u001b[1m3s\u001b[0m 8ms/step - acc: 0.8612 - loss: 0.3925\n",
            "Epoch 66/120\n",
            "\u001b[1m229/229\u001b[0m \u001b[32m━━━━━━━━━━━━━━━━━━━━\u001b[0m\u001b[37m\u001b[0m \u001b[1m3s\u001b[0m 10ms/step - acc: 0.8635 - loss: 0.3845\n",
            "Epoch 67/120\n",
            "\u001b[1m229/229\u001b[0m \u001b[32m━━━━━━━━━━━━━━━━━━━━\u001b[0m\u001b[37m\u001b[0m \u001b[1m2s\u001b[0m 7ms/step - acc: 0.8616 - loss: 0.3889\n",
            "Epoch 68/120\n",
            "\u001b[1m229/229\u001b[0m \u001b[32m━━━━━━━━━━━━━━━━━━━━\u001b[0m\u001b[37m\u001b[0m \u001b[1m2s\u001b[0m 7ms/step - acc: 0.8677 - loss: 0.3753\n",
            "Epoch 69/120\n",
            "\u001b[1m229/229\u001b[0m \u001b[32m━━━━━━━━━━━━━━━━━━━━\u001b[0m\u001b[37m\u001b[0m \u001b[1m2s\u001b[0m 7ms/step - acc: 0.8655 - loss: 0.3806\n",
            "Epoch 70/120\n",
            "\u001b[1m229/229\u001b[0m \u001b[32m━━━━━━━━━━━━━━━━━━━━\u001b[0m\u001b[37m\u001b[0m \u001b[1m3s\u001b[0m 7ms/step - acc: 0.8651 - loss: 0.3833\n",
            "Epoch 71/120\n",
            "\u001b[1m229/229\u001b[0m \u001b[32m━━━━━━━━━━━━━━━━━━━━\u001b[0m\u001b[37m\u001b[0m \u001b[1m3s\u001b[0m 9ms/step - acc: 0.8651 - loss: 0.3815\n",
            "Epoch 72/120\n",
            "\u001b[1m229/229\u001b[0m \u001b[32m━━━━━━━━━━━━━━━━━━━━\u001b[0m\u001b[37m\u001b[0m \u001b[1m3s\u001b[0m 11ms/step - acc: 0.8662 - loss: 0.3805\n",
            "Epoch 73/120\n",
            "\u001b[1m229/229\u001b[0m \u001b[32m━━━━━━━━━━━━━━━━━━━━\u001b[0m\u001b[37m\u001b[0m \u001b[1m4s\u001b[0m 7ms/step - acc: 0.8656 - loss: 0.3806\n",
            "Epoch 74/120\n",
            "\u001b[1m229/229\u001b[0m \u001b[32m━━━━━━━━━━━━━━━━━━━━\u001b[0m\u001b[37m\u001b[0m \u001b[1m2s\u001b[0m 7ms/step - acc: 0.8661 - loss: 0.3750\n",
            "Epoch 75/120\n",
            "\u001b[1m229/229\u001b[0m \u001b[32m━━━━━━━━━━━━━━━━━━━━\u001b[0m\u001b[37m\u001b[0m \u001b[1m3s\u001b[0m 7ms/step - acc: 0.8638 - loss: 0.3768\n",
            "Epoch 76/120\n",
            "\u001b[1m229/229\u001b[0m \u001b[32m━━━━━━━━━━━━━━━━━━━━\u001b[0m\u001b[37m\u001b[0m \u001b[1m3s\u001b[0m 9ms/step - acc: 0.8678 - loss: 0.3702\n",
            "Epoch 77/120\n",
            "\u001b[1m229/229\u001b[0m \u001b[32m━━━━━━━━━━━━━━━━━━━━\u001b[0m\u001b[37m\u001b[0m \u001b[1m3s\u001b[0m 10ms/step - acc: 0.8683 - loss: 0.3672\n",
            "Epoch 78/120\n",
            "\u001b[1m229/229\u001b[0m \u001b[32m━━━━━━━━━━━━━━━━━━━━\u001b[0m\u001b[37m\u001b[0m \u001b[1m2s\u001b[0m 7ms/step - acc: 0.8664 - loss: 0.3744\n",
            "Epoch 79/120\n",
            "\u001b[1m229/229\u001b[0m \u001b[32m━━━━━━━━━━━━━━━━━━━━\u001b[0m\u001b[37m\u001b[0m \u001b[1m3s\u001b[0m 7ms/step - acc: 0.8682 - loss: 0.3681\n",
            "Epoch 80/120\n",
            "\u001b[1m229/229\u001b[0m \u001b[32m━━━━━━━━━━━━━━━━━━━━\u001b[0m\u001b[37m\u001b[0m \u001b[1m3s\u001b[0m 7ms/step - acc: 0.8675 - loss: 0.3706\n",
            "Epoch 81/120\n",
            "\u001b[1m229/229\u001b[0m \u001b[32m━━━━━━━━━━━━━━━━━━━━\u001b[0m\u001b[37m\u001b[0m \u001b[1m2s\u001b[0m 7ms/step - acc: 0.8687 - loss: 0.3697\n",
            "Epoch 82/120\n",
            "\u001b[1m229/229\u001b[0m \u001b[32m━━━━━━━━━━━━━━━━━━━━\u001b[0m\u001b[37m\u001b[0m \u001b[1m3s\u001b[0m 10ms/step - acc: 0.8695 - loss: 0.3651\n",
            "Epoch 83/120\n",
            "\u001b[1m229/229\u001b[0m \u001b[32m━━━━━━━━━━━━━━━━━━━━\u001b[0m\u001b[37m\u001b[0m \u001b[1m3s\u001b[0m 10ms/step - acc: 0.8674 - loss: 0.3702\n",
            "Epoch 84/120\n",
            "\u001b[1m229/229\u001b[0m \u001b[32m━━━━━━━━━━━━━━━━━━━━\u001b[0m\u001b[37m\u001b[0m \u001b[1m2s\u001b[0m 7ms/step - acc: 0.8710 - loss: 0.3639\n",
            "Epoch 85/120\n",
            "\u001b[1m229/229\u001b[0m \u001b[32m━━━━━━━━━━━━━━━━━━━━\u001b[0m\u001b[37m\u001b[0m \u001b[1m2s\u001b[0m 7ms/step - acc: 0.8686 - loss: 0.3688\n",
            "Epoch 86/120\n",
            "\u001b[1m229/229\u001b[0m \u001b[32m━━━━━━━━━━━━━━━━━━━━\u001b[0m\u001b[37m\u001b[0m \u001b[1m3s\u001b[0m 7ms/step - acc: 0.8715 - loss: 0.3595\n",
            "Epoch 87/120\n",
            "\u001b[1m229/229\u001b[0m \u001b[32m━━━━━━━━━━━━━━━━━━━━\u001b[0m\u001b[37m\u001b[0m \u001b[1m2s\u001b[0m 7ms/step - acc: 0.8733 - loss: 0.3586\n",
            "Epoch 88/120\n",
            "\u001b[1m229/229\u001b[0m \u001b[32m━━━━━━━━━━━━━━━━━━━━\u001b[0m\u001b[37m\u001b[0m \u001b[1m3s\u001b[0m 8ms/step - acc: 0.8711 - loss: 0.3584\n",
            "Epoch 89/120\n",
            "\u001b[1m229/229\u001b[0m \u001b[32m━━━━━━━━━━━━━━━━━━━━\u001b[0m\u001b[37m\u001b[0m \u001b[1m3s\u001b[0m 10ms/step - acc: 0.8749 - loss: 0.3558\n",
            "Epoch 90/120\n",
            "\u001b[1m229/229\u001b[0m \u001b[32m━━━━━━━━━━━━━━━━━━━━\u001b[0m\u001b[37m\u001b[0m \u001b[1m2s\u001b[0m 7ms/step - acc: 0.8716 - loss: 0.3592\n",
            "Epoch 91/120\n",
            "\u001b[1m229/229\u001b[0m \u001b[32m━━━━━━━━━━━━━━━━━━━━\u001b[0m\u001b[37m\u001b[0m \u001b[1m2s\u001b[0m 7ms/step - acc: 0.8734 - loss: 0.3570\n",
            "Epoch 92/120\n",
            "\u001b[1m229/229\u001b[0m \u001b[32m━━━━━━━━━━━━━━━━━━━━\u001b[0m\u001b[37m\u001b[0m \u001b[1m2s\u001b[0m 7ms/step - acc: 0.8743 - loss: 0.3576\n",
            "Epoch 93/120\n",
            "\u001b[1m229/229\u001b[0m \u001b[32m━━━━━━━━━━━━━━━━━━━━\u001b[0m\u001b[37m\u001b[0m \u001b[1m2s\u001b[0m 7ms/step - acc: 0.8732 - loss: 0.3535\n",
            "Epoch 94/120\n",
            "\u001b[1m229/229\u001b[0m \u001b[32m━━━━━━━━━━━━━━━━━━━━\u001b[0m\u001b[37m\u001b[0m \u001b[1m2s\u001b[0m 7ms/step - acc: 0.8720 - loss: 0.3574\n",
            "Epoch 95/120\n",
            "\u001b[1m229/229\u001b[0m \u001b[32m━━━━━━━━━━━━━━━━━━━━\u001b[0m\u001b[37m\u001b[0m \u001b[1m2s\u001b[0m 7ms/step - acc: 0.8741 - loss: 0.3565\n",
            "Epoch 96/120\n",
            "\u001b[1m229/229\u001b[0m \u001b[32m━━━━━━━━━━━━━━━━━━━━\u001b[0m\u001b[37m\u001b[0m \u001b[1m2s\u001b[0m 10ms/step - acc: 0.8741 - loss: 0.3574\n",
            "Epoch 97/120\n",
            "\u001b[1m229/229\u001b[0m \u001b[32m━━━━━━━━━━━━━━━━━━━━\u001b[0m\u001b[37m\u001b[0m \u001b[1m2s\u001b[0m 9ms/step - acc: 0.8750 - loss: 0.3516\n",
            "Epoch 98/120\n",
            "\u001b[1m229/229\u001b[0m \u001b[32m━━━━━━━━━━━━━━━━━━━━\u001b[0m\u001b[37m\u001b[0m \u001b[1m2s\u001b[0m 7ms/step - acc: 0.8741 - loss: 0.3514\n",
            "Epoch 99/120\n",
            "\u001b[1m229/229\u001b[0m \u001b[32m━━━━━━━━━━━━━━━━━━━━\u001b[0m\u001b[37m\u001b[0m \u001b[1m2s\u001b[0m 7ms/step - acc: 0.8775 - loss: 0.3478\n",
            "Epoch 100/120\n",
            "\u001b[1m229/229\u001b[0m \u001b[32m━━━━━━━━━━━━━━━━━━━━\u001b[0m\u001b[37m\u001b[0m \u001b[1m3s\u001b[0m 7ms/step - acc: 0.8750 - loss: 0.3487\n",
            "Epoch 101/120\n",
            "\u001b[1m229/229\u001b[0m \u001b[32m━━━━━━━━━━━━━━━━━━━━\u001b[0m\u001b[37m\u001b[0m \u001b[1m3s\u001b[0m 7ms/step - acc: 0.8759 - loss: 0.3524\n",
            "Epoch 102/120\n",
            "\u001b[1m229/229\u001b[0m \u001b[32m━━━━━━━━━━━━━━━━━━━━\u001b[0m\u001b[37m\u001b[0m \u001b[1m4s\u001b[0m 11ms/step - acc: 0.8779 - loss: 0.3444\n",
            "Epoch 103/120\n",
            "\u001b[1m229/229\u001b[0m \u001b[32m━━━━━━━━━━━━━━━━━━━━\u001b[0m\u001b[37m\u001b[0m \u001b[1m4s\u001b[0m 7ms/step - acc: 0.8751 - loss: 0.3480\n",
            "Epoch 104/120\n",
            "\u001b[1m229/229\u001b[0m \u001b[32m━━━━━━━━━━━━━━━━━━━━\u001b[0m\u001b[37m\u001b[0m \u001b[1m2s\u001b[0m 7ms/step - acc: 0.8784 - loss: 0.3427\n",
            "Epoch 105/120\n",
            "\u001b[1m229/229\u001b[0m \u001b[32m━━━━━━━━━━━━━━━━━━━━\u001b[0m\u001b[37m\u001b[0m \u001b[1m2s\u001b[0m 6ms/step - acc: 0.8776 - loss: 0.3459\n",
            "Epoch 106/120\n",
            "\u001b[1m229/229\u001b[0m \u001b[32m━━━━━━━━━━━━━━━━━━━━\u001b[0m\u001b[37m\u001b[0m \u001b[1m2s\u001b[0m 7ms/step - acc: 0.8775 - loss: 0.3455\n",
            "Epoch 107/120\n",
            "\u001b[1m229/229\u001b[0m \u001b[32m━━━━━━━━━━━━━━━━━━━━\u001b[0m\u001b[37m\u001b[0m \u001b[1m3s\u001b[0m 10ms/step - acc: 0.8754 - loss: 0.3483\n",
            "Epoch 108/120\n",
            "\u001b[1m229/229\u001b[0m \u001b[32m━━━━━━━━━━━━━━━━━━━━\u001b[0m\u001b[37m\u001b[0m \u001b[1m2s\u001b[0m 7ms/step - acc: 0.8802 - loss: 0.3390\n",
            "Epoch 109/120\n",
            "\u001b[1m229/229\u001b[0m \u001b[32m━━━━━━━━━━━━━━━━━━━━\u001b[0m\u001b[37m\u001b[0m \u001b[1m2s\u001b[0m 6ms/step - acc: 0.8790 - loss: 0.3397\n",
            "Epoch 110/120\n",
            "\u001b[1m229/229\u001b[0m \u001b[32m━━━━━━━━━━━━━━━━━━━━\u001b[0m\u001b[37m\u001b[0m \u001b[1m3s\u001b[0m 7ms/step - acc: 0.8783 - loss: 0.3441\n",
            "Epoch 111/120\n",
            "\u001b[1m229/229\u001b[0m \u001b[32m━━━━━━━━━━━━━━━━━━━━\u001b[0m\u001b[37m\u001b[0m \u001b[1m2s\u001b[0m 7ms/step - acc: 0.8776 - loss: 0.3402\n",
            "Epoch 112/120\n",
            "\u001b[1m229/229\u001b[0m \u001b[32m━━━━━━━━━━━━━━━━━━━━\u001b[0m\u001b[37m\u001b[0m \u001b[1m3s\u001b[0m 7ms/step - acc: 0.8781 - loss: 0.3410\n",
            "Epoch 113/120\n",
            "\u001b[1m229/229\u001b[0m \u001b[32m━━━━━━━━━━━━━━━━━━━━\u001b[0m\u001b[37m\u001b[0m \u001b[1m2s\u001b[0m 10ms/step - acc: 0.8807 - loss: 0.3377\n",
            "Epoch 114/120\n",
            "\u001b[1m229/229\u001b[0m \u001b[32m━━━━━━━━━━━━━━━━━━━━\u001b[0m\u001b[37m\u001b[0m \u001b[1m2s\u001b[0m 8ms/step - acc: 0.8802 - loss: 0.3349\n",
            "Epoch 115/120\n",
            "\u001b[1m229/229\u001b[0m \u001b[32m━━━━━━━━━━━━━━━━━━━━\u001b[0m\u001b[37m\u001b[0m \u001b[1m2s\u001b[0m 6ms/step - acc: 0.8816 - loss: 0.3395\n",
            "Epoch 116/120\n",
            "\u001b[1m229/229\u001b[0m \u001b[32m━━━━━━━━━━━━━━━━━━━━\u001b[0m\u001b[37m\u001b[0m \u001b[1m2s\u001b[0m 6ms/step - acc: 0.8817 - loss: 0.3346\n",
            "Epoch 117/120\n",
            "\u001b[1m229/229\u001b[0m \u001b[32m━━━━━━━━━━━━━━━━━━━━\u001b[0m\u001b[37m\u001b[0m \u001b[1m3s\u001b[0m 7ms/step - acc: 0.8816 - loss: 0.3332\n",
            "Epoch 118/120\n",
            "\u001b[1m229/229\u001b[0m \u001b[32m━━━━━━━━━━━━━━━━━━━━\u001b[0m\u001b[37m\u001b[0m \u001b[1m2s\u001b[0m 6ms/step - acc: 0.8800 - loss: 0.3302\n",
            "Epoch 119/120\n",
            "\u001b[1m229/229\u001b[0m \u001b[32m━━━━━━━━━━━━━━━━━━━━\u001b[0m\u001b[37m\u001b[0m \u001b[1m3s\u001b[0m 10ms/step - acc: 0.8818 - loss: 0.3323\n",
            "Epoch 120/120\n",
            "\u001b[1m229/229\u001b[0m \u001b[32m━━━━━━━━━━━━━━━━━━━━\u001b[0m\u001b[37m\u001b[0m \u001b[1m2s\u001b[0m 7ms/step - acc: 0.8821 - loss: 0.3322\n"
          ]
        }
      ],
      "source": [
        "# Train the model\n",
        "history = model.fit(train,\n",
        "                    label_train,\n",
        "                    epochs=120,\n",
        "                    batch_size=256)"
      ]
    },
    {
      "cell_type": "markdown",
      "metadata": {
        "id": "11HefSFXRQT0"
      },
      "source": [
        "Recall that the dictionary `history` has two entries: the loss and the accuracy achieved using the training set."
      ]
    },
    {
      "cell_type": "code",
      "execution_count": 20,
      "metadata": {
        "id": "30u5HdnfRQT0",
        "outputId": "6ae5fc2b-4284-45e0-839b-42952c387de8",
        "colab": {
          "base_uri": "https://localhost:8080/"
        }
      },
      "outputs": [
        {
          "output_type": "execute_result",
          "data": {
            "text/plain": [
              "dict_keys(['acc', 'loss'])"
            ]
          },
          "metadata": {},
          "execution_count": 20
        }
      ],
      "source": [
        "history_dict = history.history\n",
        "history_dict.keys()"
      ]
    },
    {
      "cell_type": "markdown",
      "metadata": {
        "id": "KIg7q9-NRQT0"
      },
      "source": [
        "## Plot the results\n",
        "\n",
        "As you might expect, we'll use our `matplotlib` for graphing. Use the data stored in the `history_dict` above to plot the loss vs epochs and the accuracy vs epochs."
      ]
    },
    {
      "cell_type": "code",
      "execution_count": 21,
      "metadata": {
        "id": "95LEPg-PRQT1",
        "outputId": "29eda5ed-8afc-42f1-d93e-e50c14c11466",
        "colab": {
          "base_uri": "https://localhost:8080/",
          "height": 472
        }
      },
      "outputs": [
        {
          "output_type": "display_data",
          "data": {
            "text/plain": [
              "<Figure size 640x480 with 1 Axes>"
            ],
            "image/png": "[encoded data removed]"
          },
          "metadata": {}
        }
      ],
      "source": [
        "# Plot the loss vs the number of epoch\n",
        "history_dict = history.history\n",
        "loss_values = history_dict['loss']\n",
        "\n",
        "epochs = range(1, len(loss_values) + 1)\n",
        "plt.plot(epochs, loss_values, 'g', label='Training loss')\n",
        "\n",
        "plt.title('Training loss')\n",
        "plt.xlabel('Epochs')\n",
        "plt.ylabel('Loss')\n",
        "plt.legend()\n",
        "plt.show()"
      ]
    },
    {
      "cell_type": "code",
      "execution_count": 22,
      "metadata": {
        "id": "kKRRbYcvRQT1",
        "outputId": "1e54286b-f2e8-42df-c211-6cd77140dc40",
        "colab": {
          "base_uri": "https://localhost:8080/",
          "height": 472
        }
      },
      "outputs": [
        {
          "output_type": "display_data",
          "data": {
            "text/plain": [
              "<Figure size 640x480 with 1 Axes>"
            ],
            "image/png": "[encoded data removed]"
          },
          "metadata": {}
        }
      ],
      "source": [
        "# Plot the training accuracy vs the number of epochs\n",
        "acc_values = history_dict['acc']\n",
        "\n",
        "plt.plot(epochs, acc_values, 'r', label='Training acc')\n",
        "plt.title('Training accuracy')\n",
        "plt.xlabel('Epochs')\n",
        "plt.ylabel('Accuracy')\n",
        "plt.legend()\n",
        "plt.show()"
      ]
    },
    {
      "cell_type": "markdown",
      "metadata": {
        "id": "1FajQgSTRQT1"
      },
      "source": [
        "It seems like we could just keep on going and accuracy would go up!"
      ]
    },
    {
      "cell_type": "markdown",
      "metadata": {
        "id": "r1aFqUsXRQT1"
      },
      "source": [
        "## Make predictions\n",
        "\n",
        "Finally, it's time to make predictions. Use the relevant method discussed in the previous lesson to output (probability) predictions for the test set."
      ]
    },
    {
      "cell_type": "code",
      "execution_count": 23,
      "metadata": {
        "id": "Sl-PmMSxRQT1",
        "outputId": "4bef9181-492c-4881-c8d2-6d38e19c91de",
        "colab": {
          "base_uri": "https://localhost:8080/"
        }
      },
      "outputs": [
        {
          "output_type": "stream",
          "name": "stdout",
          "text": [
            "\u001b[1m47/47\u001b[0m \u001b[32m━━━━━━━━━━━━━━━━━━━━\u001b[0m\u001b[37m\u001b[0m \u001b[1m1s\u001b[0m 8ms/step\n"
          ]
        }
      ],
      "source": [
        "# Output (probability) predictions for the test set\n",
        "y_hat_test = model.predict(test)"
      ]
    },
    {
      "cell_type": "markdown",
      "metadata": {
        "id": "kmjv51rIRQT1"
      },
      "source": [
        "## Evaluate Performance\n",
        "\n",
        "Finally, print the loss and accuracy for both the train and test sets of the final trained model."
      ]
    },
    {
      "cell_type": "code",
      "execution_count": 24,
      "metadata": {
        "id": "KuRdWmDORQT1",
        "outputId": "484b2c45-2df1-41ee-fca7-b402e84f408d",
        "colab": {
          "base_uri": "https://localhost:8080/"
        }
      },
      "outputs": [
        {
          "output_type": "stream",
          "name": "stdout",
          "text": [
            "\u001b[1m1829/1829\u001b[0m \u001b[32m━━━━━━━━━━━━━━━━━━━━\u001b[0m\u001b[37m\u001b[0m \u001b[1m3s\u001b[0m 2ms/step - acc: 0.9064 - loss: 0.2653\n"
          ]
        },
        {
          "output_type": "execute_result",
          "data": {
            "text/plain": [
              "[0.32804030179977417, 0.8842564225196838]"
            ]
          },
          "metadata": {},
          "execution_count": 24
        }
      ],
      "source": [
        "# Print the loss and accuracy for the training set\n",
        "results_train = model.evaluate(train, label_train)\n",
        "results_train"
      ]
    },
    {
      "cell_type": "code",
      "execution_count": 25,
      "metadata": {
        "id": "yXtLO70tRQT2",
        "outputId": "829d719f-f845-466c-9520-68c4df41494a",
        "colab": {
          "base_uri": "https://localhost:8080/"
        }
      },
      "outputs": [
        {
          "output_type": "stream",
          "name": "stdout",
          "text": [
            "\u001b[1m47/47\u001b[0m \u001b[32m━━━━━━━━━━━━━━━━━━━━\u001b[0m\u001b[37m\u001b[0m \u001b[1m0s\u001b[0m 3ms/step - acc: 0.9392 - loss: 0.2189\n"
          ]
        },
        {
          "output_type": "execute_result",
          "data": {
            "text/plain": [
              "[0.2381068468093872, 0.9319999814033508]"
            ]
          },
          "metadata": {},
          "execution_count": 25
        }
      ],
      "source": [
        "# Print the loss and accuracy for the test set\n",
        "results_test = model.evaluate(test, label_test)\n",
        "results_test"
      ]
    },
    {
      "cell_type": "markdown",
      "metadata": {
        "id": "TMpSVMhARQT2"
      },
      "source": [
        "We can see that the training set results are really good, and the test set results seem to be even better. In general, this type of result will be rare, as train set results are usually at least a bit better than test set results.\n",
        "\n",
        "## Summary\n",
        "\n",
        "Congratulations! In this lab, you built a neural network thanks to the tools provided by Keras! In upcoming lessons and labs we'll continue to investigate further ideas regarding how to tune and refine these models for increased accuracy and performance."
      ]
    }
  ],
  "metadata": {
    "kernelspec": {
      "display_name": "Python 3",
      "language": "python",
      "name": "python3"
    },
    "language_info": {
      "codemirror_mode": {
        "name": "ipython",
        "version": 3
      },
      "file_extension": ".py",
      "mimetype": "text/x-python",
      "name": "python",
      "nbconvert_exporter": "python",
      "pygments_lexer": "ipython3",
      "version": "3.6.9"
    },
    "toc": {
      "base_numbering": 1,
      "nav_menu": {},
      "number_sections": true,
      "sideBar": true,
      "skip_h1_title": false,
      "title_cell": "Table of Contents",
      "title_sidebar": "Contents",
      "toc_cell": false,
      "toc_position": {},
      "toc_section_display": true,
      "toc_window_display": false
    },
    "colab": {
      "provenance": []
    }
  },
  "nbformat": 4,
  "nbformat_minor": 0
}